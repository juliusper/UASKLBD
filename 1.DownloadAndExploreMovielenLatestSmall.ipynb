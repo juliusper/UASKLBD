import os

if not (os.path.exists("recsys.zip") or os.path.exists("recsys")):
    !wget https://github.com/nzhinusoftcm/review-on-collaborative-filtering/raw/master/recsys.zip    
    !unzip recsys.zip
    matplotlib==3.2.2
numpy==1.18.1
pandas==1.0.5
python==3.6.10
scikit-learn==0.23.1
scipy==1.5.0
from recsys.datasets import mlLastedSmall

import matplotlib.pyplot as plt
import pandas as pd
import zipfile
import urllib.request
import sys
import os
mportError                               Traceback (most recent call last)
<ipython-input-8-d754a31c25f1> in <module>
----> 1 from recsys.datasets import mlLastedSmall
      2 
      3 import matplotlib.pyplot as plt
      4 import pandas as pd
      5 import zipfile

ImportError: cannot import name 'mlLastedSmall' from 'recsys.datasets' (/content/recsys/datasets.py)

---------------------------------------------------------------------------
NOTE: If your import is failing due to a missing package, you can
manually install dependencies using either !pip or !apt.

To view examples of installing some common dependencies, click the
"Open Examples" button below.
---------------------------------------------------------------------------
ratings, movies = mlLastedSmall.load()
---------------------------------------------------------------------------
NameError                                 Traceback (most recent call last)
<ipython-input-10-658f789c13a5> in <module>
----> 1 ratings, movies = mlLastedSmall.load()

NameError: name 'mlLastedSmall' is not defined
